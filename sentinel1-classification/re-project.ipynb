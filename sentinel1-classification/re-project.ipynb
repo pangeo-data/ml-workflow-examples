{
 "cells": [
  {
   "cell_type": "markdown",
   "metadata": {},
   "source": [
    "# Reprojecting Sentinel-1 data on GFW grid"
   ]
  },
  {
   "cell_type": "code",
   "execution_count": null,
   "metadata": {
    "collapsed": true
   },
   "outputs": [],
   "source": [
    "from osgeo import gdal, gdalconst\n",
    "import matplotlib.pyplot as plt\n",
    "import numpy as np\n",
    "%matplotlib inline\n",
    "\n",
    "# this allows GDAL to throw Python Exceptions\n",
    "gdal.UseExceptions()\n",
    "\n",
    "pathData = \"/home/ec2-user/data/\""
   ]
  },
  {
   "cell_type": "code",
   "execution_count": null,
   "metadata": {
    "collapsed": true
   },
   "outputs": [],
   "source": [
    "# Read labels dataset\n",
    "label_filename = pathData + 'GFWLabels2017.tiff'\n",
    "labels_dataset = gdal.Open(label_filename)\n",
    "\n",
    "labels_nx = labels_dataset.RasterXSize  # Raster xsize\n",
    "labels_ny = labels_dataset.RasterYSize  # Raster ysize\n",
    "\n",
    "labels_gt = labels_dataset.GetGeoTransform()\n",
    "labels_proj = labels_dataset.GetProjection()\n",
    "labels_xres = labels_gt[1]\n",
    "labels_yres = labels_gt[5]\n",
    "\n",
    "labels_lrx = labels_gt[0] + (labels_nx * labels_xres)\n",
    "labels_lry = labels_gt[3] + (labels_ny * labels_yres)"
   ]
  },
  {
   "cell_type": "markdown",
   "metadata": {},
   "source": [
    "### Mosaicking and reprojecting S1 data "
   ]
  },
  {
   "cell_type": "code",
   "execution_count": null,
   "metadata": {},
   "outputs": [],
   "source": [
    "#August Data\n",
    "dst_filename = pathData + 'S1_Aug17_GFW_grid.tif'\n",
    "src_filelist = [pathData + 'S1_GMS_Aug2017_extended_domain-0000000000-0000007424.tif',\n",
    "                pathData + 'S1_GMS_Aug2017_extended_domain-0000000000-0000000000.tif']\n",
    "\n",
    "gdal.Warp(dst_filename, src_filelist, dstSRS = labels_proj,\n",
    "          xRes = labels_xres, yRes = labels_yres, outputBounds=[labels_gt[0], labels_lry, labels_lrx, labels_gt[3]],\n",
    "          resampleAlg = gdalconst.GRA_Mode)\n",
    "\n",
    "# Check reprojected data\n",
    "dst_dataset = gdal.Open(dst_filename)\n",
    "\n",
    "dst_nx = dst_dataset.RasterXSize\n",
    "dst_ny = dst_dataset.RasterYSize\n",
    "dst_gt = dst_dataset.GetGeoTransform()\n",
    "dst_xres = dst_gt[1]\n",
    "dst_yres = dst_gt[5]\n",
    "dst_lrx = dst_gt[0] + (dst_nx * dst_xres)\n",
    "dst_lry = dst_gt[3] + (dst_ny * dst_yres)\n",
    "\n",
    "labels_lrx = labels_gt[0] + (labels_nx * labels_xres)\n",
    "labels_lry = labels_gt[3] + (labels_ny * labels_yres)\n"
   ]
  },
  {
   "cell_type": "code",
   "execution_count": null,
   "metadata": {},
   "outputs": [],
   "source": [
    "# Visualize Sample Data\n",
    "from readGeotiff import readGeotiff\n",
    "\n",
    "labels, nx, ny, xres, yres, gt, proj = readGeotiff(pathData + 'S1_Aug17_GFW_grid.tif')\n",
    "\n",
    "fig = plt.figure(figsize=(50, 20))\n",
    "ax = fig.add_subplot(2,1,1)\n",
    "cs = ax.imshow(np.nanmean(labels_mode[700:850, 2300:2500, :], 2), clim=(-15, 0))\n",
    "\n",
    "ax2 = fig.add_subplot(2,1,2)\n",
    "cs2 = ax2.imshow(np.nanmean(labels[700:850, 2300:2500, :], 2), clim=(-15, 0))"
   ]
  }
 ],
 "metadata": {
  "kernelspec": {
   "display_name": "Python [default]",
   "language": "python",
   "name": "python3"
  },
  "language_info": {
   "codemirror_mode": {
    "name": "ipython",
    "version": 3
   },
   "file_extension": ".py",
   "mimetype": "text/x-python",
   "name": "python",
   "nbconvert_exporter": "python",
   "pygments_lexer": "ipython3",
   "version": "3.6.3"
  }
 },
 "nbformat": 4,
 "nbformat_minor": 2
}
