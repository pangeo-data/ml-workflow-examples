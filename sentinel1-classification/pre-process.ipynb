{
 "cells": [
  {
   "cell_type": "markdown",
   "metadata": {},
   "source": [
    "# Generating Training Images and Labels for Forest Classification"
   ]
  },
  {
   "cell_type": "markdown",
   "metadata": {},
   "source": [
    "This code reads two geotiff files for Sentinel-1 and Labels from Global Forest Watch (GFW) on a local disk, and generates 256 x 256 image chips and labels to be used in training. Sentinel-1 data is already reprojected to GFW grid using the code in `re-project.ipynb`.\n",
    "\n",
    "Training images and labels are being exported/saved as numpy arrays on the disk for quick read into the training later on. \n",
    "\n",
    "This code is written as a test, and ideally there shouldn't be a need to writing these data on the disk and reading them again. Being able to read the source Sentinel-1 imagery (from its native projection), quickly reproject to the labels' grid, and then generate image chips on the fly is a base requirement to be able to scale this training to regional and continental level data. "
   ]
  },
  {
   "cell_type": "code",
   "execution_count": null,
   "metadata": {
    "collapsed": true
   },
   "outputs": [],
   "source": [
    "%matplotlib inline\n",
    "from osgeo import gdal\n",
    "import matplotlib.pyplot as plt\n",
    "import numpy as np\n",
    "import os\n",
    "import glob\n",
    "\n",
    "\n",
    "# this allows GDAL to throw Python Exceptions\n",
    "gdal.UseExceptions()"
   ]
  },
  {
   "cell_type": "code",
   "execution_count": null,
   "metadata": {
    "collapsed": true
   },
   "outputs": [],
   "source": [
    "pathData = \"/home/ec2-user/data/\""
   ]
  },
  {
   "cell_type": "markdown",
   "metadata": {},
   "source": [
    "### Read Image Data (Sentinel-1)  "
   ]
  },
  {
   "cell_type": "code",
   "execution_count": null,
   "metadata": {
    "collapsed": true
   },
   "outputs": [],
   "source": [
    "s1_filename = pathData + \"S1_Aug17_GFW_grid.tif\"\n",
    "\n",
    "try:\n",
    "    s1_datafile = gdal.Open(s1_filename)\n",
    "except RuntimeError:\n",
    "    print('Unable to open {}'.format(s1_filename))\n",
    "    sys.exit(1)\n",
    "\n",
    "s1_nx = s1_datafile.RasterXSize  \n",
    "s1_ny = s1_datafile.RasterYSize  \n",
    "\n",
    "s1_gt = s1_datafile.GetGeoTransform()\n",
    "s1_proj = s1_datafile.GetProjection()\n",
    "s1_xres = s1_gt[1]\n",
    "s1_yres = s1_gt[5]\n",
    "\n",
    "s1_data = s1_datafile.ReadAsArray()\n",
    "\n",
    "s1_data = np.swapaxes(s1_data, 0, 1)\n",
    "s1_data = np.swapaxes(s1_data, 1, 2)\n",
    "\n",
    "\n",
    "dataVV = s1_data[:, :, 0::2]\n",
    "dataVH = s1_data[:, :, 1::2]\n",
    "dataVV[dataVH<-30] = np.nan # Remove pixels less than NESZ\n",
    "dataVH[dataVH<-30] = np.nan # Remove pixels less than NESZ\n",
    "VV_A = np.nanmean(dataVV[:, :, 0::2], 2) # Using only one mode of observations (ascending vs descending)\n",
    "VH_A = np.nanmean(dataVH[:, :, 0::2], 2) # Using only one mode of observations (ascending vs descending)"
   ]
  },
  {
   "cell_type": "markdown",
   "metadata": {},
   "source": [
    "### Read Labels (Global Forest Watch)"
   ]
  },
  {
   "cell_type": "code",
   "execution_count": null,
   "metadata": {
    "collapsed": true
   },
   "outputs": [],
   "source": [
    "labels_filename = pathData + \"GFWLabels2017_noNaN.tiff\"\n",
    "try:\n",
    "    datafile = gdal.Open(labels_filename)\n",
    "except RuntimeError:\n",
    "    print('Unable to open {}'.format(fileName))\n",
    "    sys.exit(1)\n",
    "\n",
    "l_nx = datafile.RasterXSize \n",
    "l_ny = datafile.RasterYSize \n",
    "\n",
    "l_gt = datafile.GetGeoTransform()\n",
    "l_proj = datafile.GetProjection()\n",
    "l_xres = l_gt[1]\n",
    "l_yres = l_gt[5]\n",
    "\n",
    "labels = datafile.ReadAsArray()"
   ]
  },
  {
   "cell_type": "code",
   "execution_count": null,
   "metadata": {
    "collapsed": true
   },
   "outputs": [],
   "source": [
    "# Clean existing data\n",
    "files = glob.glob('data/train/image/*.npy')\n",
    "for f in files:\n",
    "    os.remove(f)\n",
    "files = glob.glob('data/test/image/*.npy')\n",
    "for f in files:\n",
    "    os.remove(f)\n",
    "files = glob.glob('data/train/label/*.npy')\n",
    "for f in files:\n",
    "    os.remove(f)\n",
    "files = glob.glob('data/test/label/*.npy')\n",
    "for f in files:\n",
    "    os.remove(f)"
   ]
  },
  {
   "cell_type": "markdown",
   "metadata": {},
   "source": [
    "### Generat Image Chips"
   ]
  },
  {
   "cell_type": "code",
   "execution_count": null,
   "metadata": {
    "collapsed": true
   },
   "outputs": [],
   "source": [
    "# Generating 256 x 256 images\n",
    "\n",
    "VV_A = VV_A[10:-10, 10:-10]\n",
    "VH_A = VH_A[10:-10, 10:-10]\n",
    "\n",
    "test_samples = np.random.choice(120, 19, replace=False)\n",
    "n_train = -1\n",
    "n_test = -1\n",
    "n_image = -1\n",
    "for i_row in range(0, int(np.floor(VV_A.shape[0]/256))):\n",
    "    for i_col in range(0, int(np.floor(VV_A.shape[1]/256))):\n",
    "        n_image = n_image + 1\n",
    "        if n_image in test_samples:\n",
    "            n_test = n_test + 1\n",
    "            image_VV = 10 ** (VV_A[i_row * 256 : (i_row + 1) * 256, i_col * 256 : (i_col + 1) * 256] / 10)\n",
    "            image_VH = 10 ** (VH_A[i_row * 256 : (i_row + 1) * 256, i_col * 256 : (i_col + 1) * 256] / 10)\n",
    "            image = np.dstack((image_VV, image_VH))\n",
    "            label = labels[i_row * 256 : (i_row + 1) * 256, i_col * 256 : (i_col + 1) * 256]\n",
    "            np.save('data/test/image/' + str(n_test), image)\n",
    "            np.save('data/test/label/' + str(n_test), label)\n",
    "        else:\n",
    "            n_train = n_train + 1\n",
    "            image_VV = VV_A[i_row * 256 : (i_row + 1) * 256, i_col * 256 : (i_col + 1) * 256] / -30\n",
    "            image_VH = VH_A[i_row * 256 : (i_row + 1) * 256, i_col * 256 : (i_col + 1) * 256] / -30\n",
    "            image = np.dstack((image_VV, image_VH))            \n",
    "            label = labels[i_row * 256 : (i_row + 1) * 256, i_col * 256 : (i_col + 1) * 256]\n",
    "            np.save('data/train/image/' + str(n_train), image)\n",
    "            np.save('data/train/label/' + str(n_train), label)"
   ]
  },
  {
   "cell_type": "code",
   "execution_count": null,
   "metadata": {
    "collapsed": true
   },
   "outputs": [],
   "source": []
  }
 ],
 "metadata": {
  "kernelspec": {
   "display_name": "Python [conda env:s1-class]",
   "language": "python",
   "name": "conda-env-s1-class-py"
  },
  "language_info": {
   "codemirror_mode": {
    "name": "ipython",
    "version": 3
   },
   "file_extension": ".py",
   "mimetype": "text/x-python",
   "name": "python",
   "nbconvert_exporter": "python",
   "pygments_lexer": "ipython3",
   "version": "3.6.6"
  }
 },
 "nbformat": 4,
 "nbformat_minor": 2
}
