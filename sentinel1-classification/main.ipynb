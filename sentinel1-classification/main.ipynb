{
 "cells": [
  {
   "cell_type": "markdown",
   "metadata": {},
   "source": [
    "# Supervised Forest Classification"
   ]
  },
  {
   "cell_type": "markdown",
   "metadata": {},
   "source": [
    "This code uses a unet architecture with two band observations from Sentinel-1 imagery to predict if a pixel is `forest` or `no forest`. \n",
    "This part of the code reads the training data from a folder that already has source imagery and labels stored as numpy array files. These files are created with the code `pre-processing.ipynb`.\n",
    "This is not an optimal solution for a scalable training. Ideally it should read the input Sentinel-1 and labels on the fly for any geographical region and time. "
   ]
  },
  {
   "cell_type": "code",
   "execution_count": null,
   "metadata": {},
   "outputs": [],
   "source": [
    "from model import *\n",
    "from data import *\n",
    "import matplotlib.pyplot as plt\n",
    "%matplotlib inline\n",
    "import glob"
   ]
  },
  {
   "cell_type": "markdown",
   "metadata": {},
   "source": [
    "## Training"
   ]
  },
  {
   "cell_type": "markdown",
   "metadata": {},
   "source": [
    "### Generate Training Data"
   ]
  },
  {
   "cell_type": "code",
   "execution_count": null,
   "metadata": {},
   "outputs": [],
   "source": [
    "trainData = trainGenerator('data/train/', flag_multi_class = True, num_image = 100)"
   ]
  },
  {
   "cell_type": "markdown",
   "metadata": {},
   "source": [
    "### Create Model"
   ]
  },
  {
   "cell_type": "code",
   "execution_count": null,
   "metadata": {},
   "outputs": [],
   "source": [
    "forestModel = unet(input_size = (256,256,2))\n",
    "# model.summary()\n",
    "model_checkpoint = ModelCheckpoint('unet_forest.hdf5', monitor='loss',verbose=1, save_best_only=True)"
   ]
  },
  {
   "cell_type": "markdown",
   "metadata": {},
   "source": [
    "### Train Model"
   ]
  },
  {
   "cell_type": "code",
   "execution_count": null,
   "metadata": {},
   "outputs": [],
   "source": [
    "forestModel.fit_generator(trainData, steps_per_epoch=50, epochs=2, callbacks=[model_checkpoint])"
   ]
  },
  {
   "cell_type": "markdown",
   "metadata": {},
   "source": [
    "## Testing"
   ]
  },
  {
   "cell_type": "markdown",
   "metadata": {},
   "source": [
    "### Generate Test Data"
   ]
  },
  {
   "cell_type": "code",
   "execution_count": null,
   "metadata": {},
   "outputs": [],
   "source": [
    "# Clean existing data\n",
    "files = glob.glob('data/test/predict/*.*')\n",
    "for f in files:\n",
    "    os.remove(f)\n",
    "\n",
    "\n",
    "testData = testGenerator('data/test/', flag_multi_class = True, num_image = 17)"
   ]
  },
  {
   "cell_type": "markdown",
   "metadata": {},
   "source": [
    "### Predict on Test Data"
   ]
  },
  {
   "cell_type": "code",
   "execution_count": null,
   "metadata": {},
   "outputs": [],
   "source": [
    "results = forestModel.predict_generator(testData, steps = 17, verbose=1)\n",
    "saveResult('data/test/predict/', results, flag_multi_class = False)"
   ]
  },
  {
   "cell_type": "markdown",
   "metadata": {},
   "source": [
    "## Visualize Test Predictions and Labels"
   ]
  },
  {
   "cell_type": "code",
   "execution_count": null,
   "metadata": {},
   "outputs": [],
   "source": [
    "fig = plt.figure(figsize=(10, 60))\n",
    "for i in range(17):\n",
    "    img = np.load('data/test/' + 'image/' + str(i) + '.npy')\n",
    "    ax1 = fig.add_subplot(20, 3, i*3+1)\n",
    "    ax1.imshow(img[:, :, 0])\n",
    "    mask = np.load(os.path.join('data/test/' + 'label/',\"%d.npy\"%i))\n",
    "    ax2 = fig.add_subplot(20, 3, i*3+2)\n",
    "    ax2.imshow(mask)\n",
    "    predict = np.load(os.path.join('data/test/' + 'predict/',\"%d_predict.npy\"%i))\n",
    "    ax3 = fig.add_subplot(20, 3, i*3+3)\n",
    "    ax3.imshow(predict)\n"
   ]
  },
  {
   "cell_type": "code",
   "execution_count": null,
   "metadata": {},
   "outputs": [],
   "source": []
  }
 ],
 "metadata": {
  "kernelspec": {
   "display_name": "Python [conda env:forest-class-s1]",
   "language": "python",
   "name": "conda-env-forest-class-s1-py"
  },
  "language_info": {
   "codemirror_mode": {
    "name": "ipython",
    "version": 3
   },
   "file_extension": ".py",
   "mimetype": "text/x-python",
   "name": "python",
   "nbconvert_exporter": "python",
   "pygments_lexer": "ipython3",
   "version": "3.6.3"
  }
 },
 "nbformat": 4,
 "nbformat_minor": 2
}
