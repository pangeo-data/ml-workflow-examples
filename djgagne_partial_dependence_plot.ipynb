{
 "cells": [
  {
   "cell_type": "markdown",
   "metadata": {},
   "source": [
    "## Partial Dependence Plot Example\n",
    "David John Gagne\n",
    "\n",
    "The goal of this notebook is to show an example of a serial and potentially parallel partial dependence plot in order to figure out ways to scale this better with Pangeo tools."
   ]
  },
  {
   "cell_type": "code",
   "execution_count": 4,
   "metadata": {},
   "outputs": [],
   "source": [
    "%matplotlib inline\n",
    "import numpy as np\n",
    "import pandas as pd\n",
    "from sklearn.ensemble import RandomForestRegressor\n",
    "from sklearn.linear_model import Ridge\n",
    "import matplotlib.pyplot as plt\n",
    "from dask.distributed import LocalCluster, Client\n",
    "import os\n",
    "from os.path import exists, join\n",
    "from urllib.request import urlretrieve\n",
    "import tarfile\n",
    "import glob"
   ]
  },
  {
   "cell_type": "markdown",
   "metadata": {},
   "source": [
    "Download CSV Data."
   ]
  },
  {
   "cell_type": "code",
   "execution_count": 3,
   "metadata": {},
   "outputs": [
    {
     "name": "stdout",
     "output_type": "stream",
     "text": [
      "Get csv files\n",
      "Extract csv tar file\n"
     ]
    }
   ],
   "source": [
    "if not exists(\"tornado_data\"):\n",
    "    os.mkdir(\"tornado_data\")\n",
    "csv_tar_file = \"https://storage.googleapis.com/track_data_ncar_ams_3km_csv_small/track_data_ncar_ams_3km_csv_small.tar.gz\"\n",
    "print(\"Get csv files\")\n",
    "urlretrieve(csv_tar_file, join(\"tornado_data\", csv_tar_file.split(\"/\")[-1]))\n",
    "print(\"Extract csv tar file\")\n",
    "csv_tar = tarfile.open(join(\"tornado_data\", csv_tar_file.split(\"/\")[-1]))\n",
    "csv_tar.extractall(\"tornado_data/\")\n",
    "csv_tar.close()"
   ]
  },
  {
   "cell_type": "markdown",
   "metadata": {},
   "source": [
    "Load CSV data"
   ]
  },
  {
   "cell_type": "code",
   "execution_count": 11,
   "metadata": {},
   "outputs": [
    {
     "name": "stdout",
     "output_type": "stream",
     "text": [
      "['tornado_data/track_data_ncar_ams_3km_csv_small/track_step_NCARSTORM_d01_20101024-0000.csv', 'tornado_data/track_data_ncar_ams_3km_csv_small/track_step_NCARSTORM_d01_20101122-0000.csv', 'tornado_data/track_data_ncar_ams_3km_csv_small/track_step_NCARSTORM_d01_20110201-0000.csv', 'tornado_data/track_data_ncar_ams_3km_csv_small/track_step_NCARSTORM_d01_20110308-0000.csv', 'tornado_data/track_data_ncar_ams_3km_csv_small/track_step_NCARSTORM_d01_20110326-0000.csv', 'tornado_data/track_data_ncar_ams_3km_csv_small/track_step_NCARSTORM_d01_20110404-0000.csv', 'tornado_data/track_data_ncar_ams_3km_csv_small/track_step_NCARSTORM_d01_20110414-0000.csv', 'tornado_data/track_data_ncar_ams_3km_csv_small/track_step_NCARSTORM_d01_20110420-0000.csv', 'tornado_data/track_data_ncar_ams_3km_csv_small/track_step_NCARSTORM_d01_20110425-0000.csv', 'tornado_data/track_data_ncar_ams_3km_csv_small/track_step_NCARSTORM_d01_20110509-0000.csv', 'tornado_data/track_data_ncar_ams_3km_csv_small/track_step_NCARSTORM_d01_20110522-0000.csv', 'tornado_data/track_data_ncar_ams_3km_csv_small/track_step_NCARSTORM_d01_20110527-0000.csv', 'tornado_data/track_data_ncar_ams_3km_csv_small/track_step_NCARSTORM_d01_20110605-0000.csv', 'tornado_data/track_data_ncar_ams_3km_csv_small/track_step_NCARSTORM_d01_20110610-0000.csv', 'tornado_data/track_data_ncar_ams_3km_csv_small/track_step_NCARSTORM_d01_20110615-0000.csv', 'tornado_data/track_data_ncar_ams_3km_csv_small/track_step_NCARSTORM_d01_20110620-0000.csv', 'tornado_data/track_data_ncar_ams_3km_csv_small/track_step_NCARSTORM_d01_20110625-0000.csv', 'tornado_data/track_data_ncar_ams_3km_csv_small/track_step_NCARSTORM_d01_20110704-0000.csv', 'tornado_data/track_data_ncar_ams_3km_csv_small/track_step_NCARSTORM_d01_20110712-0000.csv', 'tornado_data/track_data_ncar_ams_3km_csv_small/track_step_NCARSTORM_d01_20111116-0000.csv', 'tornado_data/track_data_ncar_ams_3km_csv_small/track_step_NCARSTORM_d01_20120218-0000.csv', 'tornado_data/track_data_ncar_ams_3km_csv_small/track_step_NCARSTORM_d01_20120315-0000.csv', 'tornado_data/track_data_ncar_ams_3km_csv_small/track_step_NCARSTORM_d01_20120323-0000.csv', 'tornado_data/track_data_ncar_ams_3km_csv_small/track_step_NCARSTORM_d01_20120401-0000.csv', 'tornado_data/track_data_ncar_ams_3km_csv_small/track_step_NCARSTORM_d01_20120409-0000.csv', 'tornado_data/track_data_ncar_ams_3km_csv_small/track_step_NCARSTORM_d01_20120426-0000.csv', 'tornado_data/track_data_ncar_ams_3km_csv_small/track_step_NCARSTORM_d01_20120503-0000.csv', 'tornado_data/track_data_ncar_ams_3km_csv_small/track_step_NCARSTORM_d01_20120510-0000.csv', 'tornado_data/track_data_ncar_ams_3km_csv_small/track_step_NCARSTORM_d01_20120529-0000.csv', 'tornado_data/track_data_ncar_ams_3km_csv_small/track_step_NCARSTORM_d01_20120606-0000.csv', 'tornado_data/track_data_ncar_ams_3km_csv_small/track_step_NCARSTORM_d01_20120622-0000.csv', 'tornado_data/track_data_ncar_ams_3km_csv_small/track_step_NCARSTORM_d01_20120701-0000.csv', 'tornado_data/track_data_ncar_ams_3km_csv_small/track_step_NCARSTORM_d01_20120706-0000.csv', 'tornado_data/track_data_ncar_ams_3km_csv_small/track_step_NCARSTORM_d01_20120715-0000.csv', 'tornado_data/track_data_ncar_ams_3km_csv_small/track_step_NCARSTORM_d01_20121225-0000.csv', 'tornado_data/track_data_ncar_ams_3km_csv_small/track_step_NCARSTORM_d01_20130318-0000.csv', 'tornado_data/track_data_ncar_ams_3km_csv_small/track_step_NCARSTORM_d01_20130331-0000.csv', 'tornado_data/track_data_ncar_ams_3km_csv_small/track_step_NCARSTORM_d01_20130411-0000.csv', 'tornado_data/track_data_ncar_ams_3km_csv_small/track_step_NCARSTORM_d01_20130429-0000.csv', 'tornado_data/track_data_ncar_ams_3km_csv_small/track_step_NCARSTORM_d01_20130513-0000.csv', 'tornado_data/track_data_ncar_ams_3km_csv_small/track_step_NCARSTORM_d01_20130519-0000.csv', 'tornado_data/track_data_ncar_ams_3km_csv_small/track_step_NCARSTORM_d01_20130527-0000.csv', 'tornado_data/track_data_ncar_ams_3km_csv_small/track_step_NCARSTORM_d01_20130602-0000.csv', 'tornado_data/track_data_ncar_ams_3km_csv_small/track_step_NCARSTORM_d01_20130613-0000.csv', 'tornado_data/track_data_ncar_ams_3km_csv_small/track_step_NCARSTORM_d01_20130619-0000.csv', 'tornado_data/track_data_ncar_ams_3km_csv_small/track_step_NCARSTORM_d01_20130625-0000.csv', 'tornado_data/track_data_ncar_ams_3km_csv_small/track_step_NCARSTORM_d01_20130701-0000.csv', 'tornado_data/track_data_ncar_ams_3km_csv_small/track_step_NCARSTORM_d01_20130708-0000.csv', 'tornado_data/track_data_ncar_ams_3km_csv_small/track_step_NCARSTORM_d01_20130715-0000.csv', 'tornado_data/track_data_ncar_ams_3km_csv_small/track_step_NCARSTORM_d01_20140220-0000.csv', 'tornado_data/track_data_ncar_ams_3km_csv_small/track_step_NCARSTORM_d01_20140328-0000.csv', 'tornado_data/track_data_ncar_ams_3km_csv_small/track_step_NCARSTORM_d01_20140407-0000.csv', 'tornado_data/track_data_ncar_ams_3km_csv_small/track_step_NCARSTORM_d01_20140425-0000.csv', 'tornado_data/track_data_ncar_ams_3km_csv_small/track_step_NCARSTORM_d01_20140508-0000.csv', 'tornado_data/track_data_ncar_ams_3km_csv_small/track_step_NCARSTORM_d01_20140514-0000.csv', 'tornado_data/track_data_ncar_ams_3km_csv_small/track_step_NCARSTORM_d01_20140526-0000.csv', 'tornado_data/track_data_ncar_ams_3km_csv_small/track_step_NCARSTORM_d01_20140604-0000.csv', 'tornado_data/track_data_ncar_ams_3km_csv_small/track_step_NCARSTORM_d01_20140609-0000.csv', 'tornado_data/track_data_ncar_ams_3km_csv_small/track_step_NCARSTORM_d01_20140617-0000.csv', 'tornado_data/track_data_ncar_ams_3km_csv_small/track_step_NCARSTORM_d01_20140622-0000.csv', 'tornado_data/track_data_ncar_ams_3km_csv_small/track_step_NCARSTORM_d01_20140628-0000.csv', 'tornado_data/track_data_ncar_ams_3km_csv_small/track_step_NCARSTORM_d01_20140705-0000.csv', 'tornado_data/track_data_ncar_ams_3km_csv_small/track_step_NCARSTORM_d01_20140710-0000.csv', 'tornado_data/track_data_ncar_ams_3km_csv_small/track_step_NCARSTORM_d01_20141123-0000.csv', 'tornado_data/track_data_ncar_ams_3km_csv_small/track_step_NCARSTORM_d01_20150331-0000.csv', 'tornado_data/track_data_ncar_ams_3km_csv_small/track_step_NCARSTORM_d01_20150416-0000.csv', 'tornado_data/track_data_ncar_ams_3km_csv_small/track_step_NCARSTORM_d01_20150422-0000.csv', 'tornado_data/track_data_ncar_ams_3km_csv_small/track_step_NCARSTORM_d01_20150505-0000.csv', 'tornado_data/track_data_ncar_ams_3km_csv_small/track_step_NCARSTORM_d01_20150510-0000.csv', 'tornado_data/track_data_ncar_ams_3km_csv_small/track_step_NCARSTORM_d01_20150523-0000.csv', 'tornado_data/track_data_ncar_ams_3km_csv_small/track_step_NCARSTORM_d01_20150528-0000.csv', 'tornado_data/track_data_ncar_ams_3km_csv_small/track_step_NCARSTORM_d01_20150605-0000.csv', 'tornado_data/track_data_ncar_ams_3km_csv_small/track_step_NCARSTORM_d01_20150612-0000.csv', 'tornado_data/track_data_ncar_ams_3km_csv_small/track_step_NCARSTORM_d01_20150620-0000.csv', 'tornado_data/track_data_ncar_ams_3km_csv_small/track_step_NCARSTORM_d01_20150625-0000.csv', 'tornado_data/track_data_ncar_ams_3km_csv_small/track_step_NCARSTORM_d01_20150630-0000.csv', 'tornado_data/track_data_ncar_ams_3km_csv_small/track_step_NCARSTORM_d01_20150706-0000.csv', 'tornado_data/track_data_ncar_ams_3km_csv_small/track_step_NCARSTORM_d01_20150712-0000.csv', 'tornado_data/track_data_ncar_ams_3km_csv_small/track_step_NCARSTORM_d01_20151031-0000.csv', 'tornado_data/track_data_ncar_ams_3km_csv_small/track_step_NCARSTORM_d01_20151227-0000.csv', 'tornado_data/track_data_ncar_ams_3km_csv_small/track_step_NCARSTORM_d01_20160224-0000.csv', 'tornado_data/track_data_ncar_ams_3km_csv_small/track_step_NCARSTORM_d01_20160323-0000.csv', 'tornado_data/track_data_ncar_ams_3km_csv_small/track_step_NCARSTORM_d01_20160401-0000.csv', 'tornado_data/track_data_ncar_ams_3km_csv_small/track_step_NCARSTORM_d01_20160415-0000.csv', 'tornado_data/track_data_ncar_ams_3km_csv_small/track_step_NCARSTORM_d01_20160429-0000.csv', 'tornado_data/track_data_ncar_ams_3km_csv_small/track_step_NCARSTORM_d01_20160505-0000.csv', 'tornado_data/track_data_ncar_ams_3km_csv_small/track_step_NCARSTORM_d01_20160511-0000.csv', 'tornado_data/track_data_ncar_ams_3km_csv_small/track_step_NCARSTORM_d01_20160522-0000.csv', 'tornado_data/track_data_ncar_ams_3km_csv_small/track_step_NCARSTORM_d01_20160528-0000.csv', 'tornado_data/track_data_ncar_ams_3km_csv_small/track_step_NCARSTORM_d01_20160608-0000.csv', 'tornado_data/track_data_ncar_ams_3km_csv_small/track_step_NCARSTORM_d01_20160616-0000.csv', 'tornado_data/track_data_ncar_ams_3km_csv_small/track_step_NCARSTORM_d01_20160622-0000.csv', 'tornado_data/track_data_ncar_ams_3km_csv_small/track_step_NCARSTORM_d01_20160628-0000.csv', 'tornado_data/track_data_ncar_ams_3km_csv_small/track_step_NCARSTORM_d01_20160707-0000.csv', 'tornado_data/track_data_ncar_ams_3km_csv_small/track_step_NCARSTORM_d01_20160712-0000.csv', 'tornado_data/track_data_ncar_ams_3km_csv_small/track_step_NCARSTORM_d01_20161129-0000.csv', 'tornado_data/track_data_ncar_ams_3km_csv_small/track_step_NCARSTORM_d01_20170121-0000.csv', 'tornado_data/track_data_ncar_ams_3km_csv_small/track_step_NCARSTORM_d01_20170228-0000.csv', 'tornado_data/track_data_ncar_ams_3km_csv_small/track_step_NCARSTORM_d01_20170323-0000.csv', 'tornado_data/track_data_ncar_ams_3km_csv_small/track_step_NCARSTORM_d01_20170329-0000.csv']\n"
     ]
    }
   ],
   "source": [
    "path = \"tornado_data/track_data_ncar_ams_3km_csv_small/\"\n",
    "files = sorted(glob.glob(path+\"/*.csv\"))\n",
    "print(files)\n",
    "df = pd.concat([pd.read_csv(f, parse_dates=[\"Run_Date\", \"Valid_Date\"]) for f in files], ignore_index=True)\n"
   ]
  },
  {
   "cell_type": "code",
   "execution_count": 9,
   "metadata": {},
   "outputs": [
    {
     "name": "stdout",
     "output_type": "stream",
     "text": [
      "Step_ID\n",
      "Track_ID\n",
      "Ensemble_Name\n",
      "Ensemble_Member\n",
      "Run_Date\n",
      "Valid_Date\n",
      "Forecast_Hour\n",
      "Valid_Hour_UTC\n",
      "Duration\n",
      "Centroid_Lon\n",
      "Centroid_Lat\n",
      "Centroid_X\n",
      "Centroid_Y\n",
      "Storm_Motion_U\n",
      "Storm_Motion_V\n",
      "REFL_COM_mean\n",
      "REFL_COM_max\n",
      "REFL_COM_min\n",
      "REFL_COM_std\n",
      "REFL_COM_percentile_10\n",
      "REFL_COM_percentile_25\n",
      "REFL_COM_percentile_50\n",
      "REFL_COM_percentile_75\n",
      "REFL_COM_percentile_90\n",
      "U10_mean\n",
      "U10_max\n",
      "U10_min\n",
      "U10_std\n",
      "U10_percentile_10\n",
      "U10_percentile_25\n",
      "U10_percentile_50\n",
      "U10_percentile_75\n",
      "U10_percentile_90\n",
      "V10_mean\n",
      "V10_max\n",
      "V10_min\n",
      "V10_std\n",
      "V10_percentile_10\n",
      "V10_percentile_25\n",
      "V10_percentile_50\n",
      "V10_percentile_75\n",
      "V10_percentile_90\n",
      "T2_mean\n",
      "T2_max\n",
      "T2_min\n",
      "T2_std\n",
      "T2_percentile_10\n",
      "T2_percentile_25\n",
      "T2_percentile_50\n",
      "T2_percentile_75\n",
      "T2_percentile_90\n",
      "RVORT1_MAX-future_mean\n",
      "RVORT1_MAX-future_max\n",
      "RVORT1_MAX-future_min\n",
      "RVORT1_MAX-future_std\n",
      "RVORT1_MAX-future_percentile_10\n",
      "RVORT1_MAX-future_percentile_25\n",
      "RVORT1_MAX-future_percentile_50\n",
      "RVORT1_MAX-future_percentile_75\n",
      "RVORT1_MAX-future_percentile_90\n",
      "HAIL_MAXK1-future_mean\n",
      "HAIL_MAXK1-future_max\n",
      "HAIL_MAXK1-future_min\n",
      "HAIL_MAXK1-future_std\n",
      "HAIL_MAXK1-future_percentile_10\n",
      "HAIL_MAXK1-future_percentile_25\n",
      "HAIL_MAXK1-future_percentile_50\n",
      "HAIL_MAXK1-future_percentile_75\n",
      "HAIL_MAXK1-future_percentile_90\n",
      "area\n",
      "eccentricity\n",
      "major_axis_length\n",
      "minor_axis_length\n",
      "orientation\n",
      "Matched\n",
      "Max_Hail_Size\n",
      "Num_Matches\n",
      "Shape\n",
      "Location\n",
      "Scale\n"
     ]
    }
   ],
   "source": [
    "for col in df.columns:\n",
    "    print(col)"
   ]
  },
  {
   "cell_type": "markdown",
   "metadata": {},
   "source": [
    "We are using reflectivity, u-wind, v-wind, and 2 m temperature to predict vorticity for a given storm in a dataset of storms."
   ]
  },
  {
   "cell_type": "code",
   "execution_count": 12,
   "metadata": {},
   "outputs": [],
   "source": [
    "input_cols = [\"REFL_COM_mean\", \"U10_mean\", \"V10_mean\", \"T2_mean\"]\n",
    "output_col = [\"RVORT1_MAX-future_max\"]\n",
    "split_date = pd.Timestamp(\"2015-01-01\")\n",
    "train_in = df.loc[df[\"Run_Date\"] < split_date, input_cols]\n",
    "train_out = df.loc[df[\"Run_Date\"] < split_date, output_col]\n",
    "test_in = df.loc[df[\"Run_Date\"] >= split_date, input_cols]\n",
    "test_out = df.loc[df[\"Run_Date\"]>= split_date, output_col]\n"
   ]
  },
  {
   "cell_type": "code",
   "execution_count": 16,
   "metadata": {},
   "outputs": [
    {
     "data": {
      "text/plain": [
       "(76377, 1)"
      ]
     },
     "execution_count": 16,
     "metadata": {},
     "output_type": "execute_result"
    }
   ],
   "source": [
    "train_out.shape"
   ]
  },
  {
   "cell_type": "markdown",
   "metadata": {},
   "source": [
    "Train the random forest"
   ]
  },
  {
   "cell_type": "code",
   "execution_count": 17,
   "metadata": {},
   "outputs": [
    {
     "data": {
      "text/plain": [
       "RandomForestRegressor(bootstrap=True, criterion='mse', max_depth=8,\n",
       "           max_features='auto', max_leaf_nodes=None,\n",
       "           min_impurity_decrease=0.0, min_impurity_split=None,\n",
       "           min_samples_leaf=1, min_samples_split=2,\n",
       "           min_weight_fraction_leaf=0.0, n_estimators=50, n_jobs=None,\n",
       "           oob_score=False, random_state=None, verbose=0, warm_start=False)"
      ]
     },
     "execution_count": 17,
     "metadata": {},
     "output_type": "execute_result"
    }
   ],
   "source": [
    "rf = RandomForestRegressor(n_estimators=50, max_depth=8)\n",
    "rf.fit(train_in, train_out.values.ravel())"
   ]
  },
  {
   "cell_type": "markdown",
   "metadata": {},
   "source": [
    "We want to interpret the input sensitivities for the random forest. We will use a technique called partial dependence plots, which changes the inputs in a way that can affect the mean output and reveal sensitivities of the model to certain ranges of inputs. "
   ]
  },
  {
   "cell_type": "code",
   "execution_count": 18,
   "metadata": {},
   "outputs": [],
   "source": [
    "def partial_dependence_1d(x, model, var_index, var_vals):\n",
    "    \"\"\"\n",
    "    Calculate how the mean prediction of an ML model varies if one variable's value is fixed across all input\n",
    "    examples.\n",
    "\n",
    "    Args:\n",
    "        x: array of input variables\n",
    "        model: scikit-learn style model object\n",
    "        var_index: column index of the variable being investigated\n",
    "        var_vals: values of the input variable that are fixed.\n",
    "\n",
    "    Returns:\n",
    "        Array of partial dependence values.\n",
    "    \"\"\"\n",
    "    partial_dependence = np.zeros(var_vals.shape)\n",
    "    x_copy = np.copy(x)\n",
    "    for v, var_val in enumerate(var_vals):\n",
    "        x_copy[:, var_index] = var_val\n",
    "        partial_dependence[v] = model.predict(x_copy).mean()\n",
    "    return partial_dependence"
   ]
  },
  {
   "cell_type": "code",
   "execution_count": 19,
   "metadata": {},
   "outputs": [
    {
     "data": {
      "text/html": [
       "<div>\n",
       "<style scoped>\n",
       "    .dataframe tbody tr th:only-of-type {\n",
       "        vertical-align: middle;\n",
       "    }\n",
       "\n",
       "    .dataframe tbody tr th {\n",
       "        vertical-align: top;\n",
       "    }\n",
       "\n",
       "    .dataframe thead th {\n",
       "        text-align: right;\n",
       "    }\n",
       "</style>\n",
       "<table border=\"1\" class=\"dataframe\">\n",
       "  <thead>\n",
       "    <tr style=\"text-align: right;\">\n",
       "      <th></th>\n",
       "      <th>REFL_COM_mean</th>\n",
       "      <th>U10_mean</th>\n",
       "      <th>V10_mean</th>\n",
       "      <th>T2_mean</th>\n",
       "    </tr>\n",
       "  </thead>\n",
       "  <tbody>\n",
       "    <tr>\n",
       "      <th>count</th>\n",
       "      <td>76377.000000</td>\n",
       "      <td>76377.000000</td>\n",
       "      <td>76377.000000</td>\n",
       "      <td>76377.000000</td>\n",
       "    </tr>\n",
       "    <tr>\n",
       "      <th>mean</th>\n",
       "      <td>46.846515</td>\n",
       "      <td>0.449749</td>\n",
       "      <td>0.542538</td>\n",
       "      <td>289.408528</td>\n",
       "    </tr>\n",
       "    <tr>\n",
       "      <th>std</th>\n",
       "      <td>3.984091</td>\n",
       "      <td>4.347625</td>\n",
       "      <td>4.461936</td>\n",
       "      <td>6.931555</td>\n",
       "    </tr>\n",
       "    <tr>\n",
       "      <th>min</th>\n",
       "      <td>40.082820</td>\n",
       "      <td>-18.653700</td>\n",
       "      <td>-20.561280</td>\n",
       "      <td>262.921600</td>\n",
       "    </tr>\n",
       "    <tr>\n",
       "      <th>25%</th>\n",
       "      <td>43.755930</td>\n",
       "      <td>-2.366580</td>\n",
       "      <td>-2.301950</td>\n",
       "      <td>285.114260</td>\n",
       "    </tr>\n",
       "    <tr>\n",
       "      <th>50%</th>\n",
       "      <td>46.170650</td>\n",
       "      <td>0.396810</td>\n",
       "      <td>0.659590</td>\n",
       "      <td>290.625850</td>\n",
       "    </tr>\n",
       "    <tr>\n",
       "      <th>75%</th>\n",
       "      <td>49.128190</td>\n",
       "      <td>3.271980</td>\n",
       "      <td>3.496990</td>\n",
       "      <td>294.398190</td>\n",
       "    </tr>\n",
       "    <tr>\n",
       "      <th>max</th>\n",
       "      <td>68.743160</td>\n",
       "      <td>19.686640</td>\n",
       "      <td>18.616930</td>\n",
       "      <td>312.149230</td>\n",
       "    </tr>\n",
       "  </tbody>\n",
       "</table>\n",
       "</div>"
      ],
      "text/plain": [
       "       REFL_COM_mean      U10_mean      V10_mean       T2_mean\n",
       "count   76377.000000  76377.000000  76377.000000  76377.000000\n",
       "mean       46.846515      0.449749      0.542538    289.408528\n",
       "std         3.984091      4.347625      4.461936      6.931555\n",
       "min        40.082820    -18.653700    -20.561280    262.921600\n",
       "25%        43.755930     -2.366580     -2.301950    285.114260\n",
       "50%        46.170650      0.396810      0.659590    290.625850\n",
       "75%        49.128190      3.271980      3.496990    294.398190\n",
       "max        68.743160     19.686640     18.616930    312.149230"
      ]
     },
     "execution_count": 19,
     "metadata": {},
     "output_type": "execute_result"
    }
   ],
   "source": [
    "train_in.describe()"
   ]
  },
  {
   "cell_type": "markdown",
   "metadata": {},
   "source": [
    "Here is an example for a single variable."
   ]
  },
  {
   "cell_type": "code",
   "execution_count": 41,
   "metadata": {},
   "outputs": [],
   "source": [
    "pd_count = 50\n",
    "index = 0\n",
    "var_vals = np.linspace(train_in.iloc[:, 0].min(), train_in.iloc[:, 0].max(), pd_count)\n",
    "pd_vals = partial_dependence_1d(train_in, rf, index, var_vals)"
   ]
  },
  {
   "cell_type": "code",
   "execution_count": 43,
   "metadata": {},
   "outputs": [
    {
     "name": "stdout",
     "output_type": "stream",
     "text": [
      "4.99 s ± 236 ms per loop (mean ± std. dev. of 7 runs, 1 loop each)\n"
     ]
    }
   ],
   "source": [
    "%timeit pd_vals = partial_dependence_1d(train_in, rf, index, var_vals)"
   ]
  },
  {
   "cell_type": "code",
   "execution_count": 45,
   "metadata": {},
   "outputs": [
    {
     "data": {
      "text/plain": [
       "Text(0.5, 0, 'REFL_COM_mean')"
      ]
     },
     "execution_count": 45,
     "metadata": {},
     "output_type": "execute_result"
    },
    {
     "data": {
      "image/png": "[encoded data removed]",
      "text/plain": [
       "<Figure size 432x288 with 1 Axes>"
      ]
     },
     "metadata": {
      "needs_background": "light"
     },
     "output_type": "display_data"
    }
   ],
   "source": [
    "plt.plot(var_vals, pd_vals, 'ko-')\n",
    "plt.xlabel(input_cols[index])"
   ]
  },
  {
   "cell_type": "markdown",
   "metadata": {},
   "source": [
    "How well can Dask parallelize the task across all the input variables?"
   ]
  },
  {
   "cell_type": "code",
   "execution_count": 25,
   "metadata": {},
   "outputs": [],
   "source": [
    "cluster = LocalCluster(n_workers=4)\n",
    "client = Client(cluster)"
   ]
  },
  {
   "cell_type": "code",
   "execution_count": 26,
   "metadata": {},
   "outputs": [
    {
     "data": {
      "text/html": [
       "<table style=\"border: 2px solid white;\">\n",
       "<tr>\n",
       "<td style=\"vertical-align: top; border: 0px solid white\">\n",
       "<h3>Client</h3>\n",
       "<ul>\n",
       "  <li><b>Scheduler: </b>tcp://127.0.0.1:51668\n",
       "  <li><b>Dashboard: </b><a href='http://127.0.0.1:8787/status' target='_blank'>http://127.0.0.1:8787/status</a>\n",
       "</ul>\n",
       "</td>\n",
       "<td style=\"vertical-align: top; border: 0px solid white\">\n",
       "<h3>Cluster</h3>\n",
       "<ul>\n",
       "  <li><b>Workers: </b>4</li>\n",
       "  <li><b>Cores: </b>8</li>\n",
       "  <li><b>Memory: </b>17.18 GB</li>\n",
       "</ul>\n",
       "</td>\n",
       "</tr>\n",
       "</table>"
      ],
      "text/plain": [
       "<Client: scheduler='tcp://127.0.0.1:51668' processes=4 cores=8>"
      ]
     },
     "execution_count": 26,
     "metadata": {},
     "output_type": "execute_result"
    }
   ],
   "source": [
    "client"
   ]
  },
  {
   "cell_type": "code",
   "execution_count": 38,
   "metadata": {},
   "outputs": [],
   "source": [
    "pd_count = 50\n",
    "var_vals = np.zeros((len(input_cols), pd_count))\n",
    "futures = []\n",
    "train_future = client.scatter(train_in.values)\n",
    "for i, input_col in enumerate(input_cols):\n",
    "    var_vals[i] = np.linspace(train_in[input_col].min(), train_in[input_col].max(), pd_count)\n",
    "    futures.append(client.submit(partial_dependence_1d, train_future, rf, i, var_vals[i]))"
   ]
  },
  {
   "cell_type": "code",
   "execution_count": 39,
   "metadata": {},
   "outputs": [],
   "source": [
    "results = client.gather(futures)"
   ]
  },
  {
   "cell_type": "code",
   "execution_count": 40,
   "metadata": {},
   "outputs": [
    {
     "data": {
      "image/png": "[encoded data removed]",
      "text/plain": [
       "<Figure size 720x576 with 4 Axes>"
      ]
     },
     "metadata": {
      "needs_background": "light"
     },
     "output_type": "display_data"
    }
   ],
   "source": [
    "fig, axes = plt.subplots(2, 2, figsize=(10, 8))\n",
    "axef = axes.ravel()\n",
    "for r, res in enumerate(results):\n",
    "    axef[r].plot(var_vals[r], res, 'ko-')\n",
    "    axef[r].set_xlabel(input_cols[r])"
   ]
  },
  {
   "cell_type": "markdown",
   "metadata": {},
   "source": [
    "It turns out that in this case, dask already does quite well with paralellizing the task? \n",
    "\n",
    "Is there a way we can make dask struggle or fail? At what dataset size do we see problems?\n",
    "\n",
    "Is there a more concise way to paralellize the task?"
   ]
  },
  {
   "cell_type": "code",
   "execution_count": null,
   "metadata": {},
   "outputs": [],
   "source": []
  }
 ],
 "metadata": {
  "kernelspec": {
   "display_name": "Python 3",
   "language": "python",
   "name": "python3"
  },
  "language_info": {
   "codemirror_mode": {
    "name": "ipython",
    "version": 3
   },
   "file_extension": ".py",
   "mimetype": "text/x-python",
   "name": "python",
   "nbconvert_exporter": "python",
   "pygments_lexer": "ipython3",
   "version": "3.6.7"
  }
 },
 "nbformat": 4,
 "nbformat_minor": 2
}
